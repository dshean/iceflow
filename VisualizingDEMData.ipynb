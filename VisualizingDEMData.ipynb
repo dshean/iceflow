{
 "cells": [
  {
   "cell_type": "markdown",
   "metadata": {},
   "source": [
    "# Visualizing DEM differencing data #"
   ]
  },
  {
   "cell_type": "markdown",
   "metadata": {},
   "source": [
    "Objective: create an interactive map that has a dem or hillshade as a basemap and allows the user to use a scrollbar to view DEMs and DEM difference geotifs\n",
    "\n",
    "The following python packages are required:\n",
    "\n",
    "- gdal\n",
    "- [ipyleaflet](https://github.com/ellisonbg/ipyleaflet)\n"
   ]
  },
  {
   "cell_type": "markdown",
   "metadata": {},
   "source": [
    "import python libraries"
   ]
  },
  {
   "cell_type": "code",
   "execution_count": 1,
   "metadata": {
    "collapsed": false
   },
   "outputs": [],
   "source": [
    "import sys\n",
    "#update path until georaster is installed with the make file\n",
    "sys.path.insert(0,'/Users/jessica/Classes/Geohackweek2016/iceflow/georaster')"
   ]
  },
  {
   "cell_type": "code",
   "execution_count": 2,
   "metadata": {
    "collapsed": false
   },
   "outputs": [
    {
     "name": "stderr",
     "output_type": "stream",
     "text": [
      "//anaconda/envs/py27/lib/python2.7/site-packages/matplotlib/font_manager.py:273: UserWarning: Matplotlib is building the font cache using fc-list. This may take a moment.\n",
      "  warnings.warn('Matplotlib is building the font cache using fc-list. This may take a moment.')\n"
     ]
    }
   ],
   "source": [
    "import geoutils\n",
    "import gdal\n",
    "import pandas\n",
    "from matplotlib import pyplot as plt"
   ]
  },
  {
   "cell_type": "code",
   "execution_count": 3,
   "metadata": {
    "collapsed": false
   },
   "outputs": [],
   "source": [
    "import mpl_toolkits.basemap\n",
    "from ipyleaflet import (Map,\n",
    "    Marker,\n",
    "    TileLayer, ImageOverlay,\n",
    "    Polyline, Polygon, Rectangle, Circle, CircleMarker,\n",
    "    GeoJSON,\n",
    "    DrawControl\n",
    ")"
   ]
  },
  {
   "cell_type": "code",
   "execution_count": 15,
   "metadata": {
    "collapsed": false,
    "scrolled": true
   },
   "outputs": [],
   "source": [
    "#import georaster as raster  ##sometimes needs to be from georaster import georaster...\n",
    "#print sys.path"
   ]
  },
  {
   "cell_type": "markdown",
   "metadata": {
    "collapsed": false
   },
   "source": [
    "Set path to input raster and read in for visualizing"
   ]
  },
  {
   "cell_type": "code",
   "execution_count": 14,
   "metadata": {
    "collapsed": false,
    "scrolled": false
   },
   "outputs": [],
   "source": [
    "#rast_img = raster.SingleBandRaster('../iceflow_project/20141022_0518_1020010036518E00_102001003525D400-DEM_32m.tif')"
   ]
  },
  {
   "cell_type": "code",
   "execution_count": null,
   "metadata": {
    "collapsed": false
   },
   "outputs": [],
   "source": [
    "print dir(raster)\n",
    "print raster.__file__"
   ]
  },
  {
   "cell_type": "code",
   "execution_count": 4,
   "metadata": {
    "collapsed": false
   },
   "outputs": [],
   "source": [
    "%matplotlib inline"
   ]
  },
  {
   "cell_type": "markdown",
   "metadata": {
    "collapsed": false
   },
   "source": [
    "Set up working environment/variables"
   ]
  },
  {
   "cell_type": "code",
   "execution_count": 5,
   "metadata": {
    "collapsed": true
   },
   "outputs": [],
   "source": [
    "center = [28, 86.9] #center coordinates, lat then lon, for the base interactive map\n",
    "zoom = 10\n",
    "file_dir = '../iceflow_project/'\n",
    "DEM_name = '20141022_0518_1020010036518E00_102001003525D400-DEM_32m.tif'"
   ]
  },
  {
   "cell_type": "code",
   "execution_count": 6,
   "metadata": {
    "collapsed": true
   },
   "outputs": [],
   "source": [
    "map = Map(center=center, zoom=zoom)\n",
    "map"
   ]
  },
  {
   "cell_type": "code",
   "execution_count": 11,
   "metadata": {
    "collapsed": false
   },
   "outputs": [],
   "source": [
    "ImageOverlay??"
   ]
  },
  {
   "cell_type": "markdown",
   "metadata": {},
   "source": [
    "Important notes about ImageOverlay:\n",
    "the url MUST point to something on the web. It does not work with local addresses (relative or absolute).\n",
    "\n",
    "Example of a working line of code:\n",
    "DEM_overlay = ImageOverlay(url='https://s3.amazonaws.com/images.seroundtable.com/t-google-star-1300195846.jpg', bounds=[[27.8, 86.9],[28, 87.3]])\n",
    "\n",
    "Attempts at an actual dem dataset/image:\n",
    "https://drive.google.com/drive/folders/0B5c3UTO8DDZwamlQMzNRRWd3TEU/HMA/incoming/COREG/coreg_32m/20151018_0514_1050010001B64900_1050010001B64A00-DEM_32m_fig.png'\n",
    "https://github.com/dshean/iceflow/blob/master/doc/img/IMG_4306.JPG"
   ]
  },
  {
   "cell_type": "code",
   "execution_count": 19,
   "metadata": {
    "collapsed": false
   },
   "outputs": [],
   "source": [
    "map.remove_layer(DEM_overlay)\n",
    "DEM_overlay = ImageOverlay(url='https://s3.amazonaws.com/images.seroundtable.com/t-google-star-1300195846.jpg', \\\n",
    "                           bounds=[[27.8, 86.9],[28, 87.3]])\n",
    "map.add_layer(DEM_overlay)\n",
    "map"
   ]
  },
  {
   "cell_type": "code",
   "execution_count": null,
   "metadata": {
    "collapsed": true
   },
   "outputs": [],
   "source": []
  }
 ],
 "metadata": {
  "anaconda-cloud": {},
  "kernelspec": {
   "display_name": "Python [conda env:py27]",
   "language": "python",
   "name": "conda-env-py27-py"
  },
  "language_info": {
   "codemirror_mode": {
    "name": "ipython",
    "version": 2
   },
   "file_extension": ".py",
   "mimetype": "text/x-python",
   "name": "python",
   "nbconvert_exporter": "python",
   "pygments_lexer": "ipython2",
   "version": "2.7.12"
  },
  "widgets": {
   "state": {
    "bbd005cb35a141958566acbf28d43f91": {
     "views": [
      {
       "cell_index": 16
      }
     ]
    }
   },
   "version": "1.2.0"
  }
 },
 "nbformat": 4,
 "nbformat_minor": 1
}
