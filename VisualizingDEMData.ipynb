{
 "cells": [
  {
   "cell_type": "markdown",
   "metadata": {},
   "source": [
    "# Visualizing DEM differencing data #"
   ]
  },
  {
   "cell_type": "markdown",
   "metadata": {},
   "source": [
    "Objective: create an interactive map that has a dem or hillshade as a basemap and allows the user to use a scrollbar to view DEMs and DEM difference geotifs\n",
    "\n",
    "The following python packages are required:\n",
    "\n",
    "- gdal\n",
    "- [ipyleaflet](https://github.com/ellisonbg/ipyleaflet)\n",
    "\n",
    "Note: this is a work in progress. The creation of an interactive map with a DEM overlay part has been completed, but other sections are still in development. Some code blocks are marked \"do not run\" because they are not needed for the DEM overlay"
   ]
  },
  {
   "cell_type": "markdown",
   "metadata": {},
   "source": [
    "import python libraries"
   ]
  },
  {
   "cell_type": "code",
   "execution_count": 1,
   "metadata": {
    "collapsed": false
   },
   "outputs": [],
   "source": [
    "#do not run\n",
    "import sys\n",
    "#update path until georaster is installed with the make file\n",
    "sys.path.insert(0,'/Users/jessica/Classes/Geohackweek2016/iceflow/georaster')"
   ]
  },
  {
   "cell_type": "code",
   "execution_count": 2,
   "metadata": {
    "collapsed": false
   },
   "outputs": [
    {
     "name": "stderr",
     "output_type": "stream",
     "text": [
      "//anaconda/envs/py27/lib/python2.7/site-packages/matplotlib/font_manager.py:273: UserWarning: Matplotlib is building the font cache using fc-list. This may take a moment.\n",
      "  warnings.warn('Matplotlib is building the font cache using fc-list. This may take a moment.')\n"
     ]
    }
   ],
   "source": [
    "#do not run\n",
    "import geoutils\n",
    "import gdal\n",
    "import pandas\n",
    "from matplotlib import pyplot as plt"
   ]
  },
  {
   "cell_type": "code",
   "execution_count": 3,
   "metadata": {
    "collapsed": false
   },
   "outputs": [],
   "source": [
    "import mpl_toolkits.basemap\n",
    "from ipyleaflet import (Map,\n",
    "    Marker,\n",
    "    TileLayer, ImageOverlay,\n",
    "    Polyline, Polygon, Rectangle, Circle, CircleMarker,\n",
    "    GeoJSON,\n",
    "    DrawControl\n",
    ")"
   ]
  },
  {
   "cell_type": "markdown",
   "metadata": {
    "collapsed": false
   },
   "source": [
    "Set path to input raster and read in for visualizing"
   ]
  },
  {
   "cell_type": "code",
   "execution_count": 5,
   "metadata": {
    "collapsed": false,
    "scrolled": true
   },
   "outputs": [],
   "source": [
    "#import georaster as raster  ##sometimes needs to be from georaster import georaster...\n",
    "#rast_img = raster.SingleBandRaster('../iceflow_project/20141022_0518_1020010036518E00_102001003525D400-DEM_32m.tif')"
   ]
  },
  {
   "cell_type": "code",
   "execution_count": 8,
   "metadata": {
    "collapsed": false
   },
   "outputs": [],
   "source": [
    "#do not run\n",
    "%matplotlib inline"
   ]
  },
  {
   "cell_type": "markdown",
   "metadata": {
    "collapsed": false
   },
   "source": [
    "Set up working environment/variables"
   ]
  },
  {
   "cell_type": "code",
   "execution_count": 25,
   "metadata": {
    "collapsed": false
   },
   "outputs": [],
   "source": [
    "#do not run - a work in progress to not have the corners hard coded in\n",
    "ds = gdal.Open('../iceflow/data/WV_Ngozumpa/coreg32_mos-tile-0.tif')\n",
    "ulx, xres, xskew, uly, yskew, yres = ds.GetGeoTransform()\n",
    "\n",
    "llx = ulx\n",
    "lly = uly - (ds.RasterYSize * yres)\n",
    "urx = ulx + (ds.RasterXSize * xres)\n",
    "ury = uly"
   ]
  },
  {
   "cell_type": "code",
   "execution_count": 46,
   "metadata": {
    "collapsed": false
   },
   "outputs": [
    {
     "name": "stdout",
     "output_type": "stream",
     "text": [
      "Driver: GTiff/GeoTIFF\n",
      "Files: ./data/WV_Ngozumpa/coreg32_mos-tile-0.tif\n",
      "Size is 608, 1958\n",
      "Coordinate System is:\n",
      "PROJCS[\"WGS 84 / UTM zone 45N\",\n",
      "    GEOGCS[\"WGS 84\",\n",
      "        DATUM[\"WGS_1984\",\n",
      "            SPHEROID[\"WGS 84\",6378137,298.257223563,\n",
      "                AUTHORITY[\"EPSG\",\"7030\"]],\n",
      "            AUTHORITY[\"EPSG\",\"6326\"]],\n",
      "        PRIMEM[\"Greenwich\",0],\n",
      "        UNIT[\"degree\",0.0174532925199433],\n",
      "        AUTHORITY[\"EPSG\",\"4326\"]],\n",
      "    PROJECTION[\"Transverse_Mercator\"],\n",
      "    PARAMETER[\"latitude_of_origin\",0],\n",
      "    PARAMETER[\"central_meridian\",87],\n",
      "    PARAMETER[\"scale_factor\",0.9996],\n",
      "    PARAMETER[\"false_easting\",500000],\n",
      "    PARAMETER[\"false_northing\",0],\n",
      "    UNIT[\"metre\",1,\n",
      "        AUTHORITY[\"EPSG\",\"9001\"]],\n",
      "    AUTHORITY[\"EPSG\",\"32645\"]]\n",
      "Origin = (460048.000000000000000,3146768.000000000000000)\n",
      "Pixel Size = (32.000000000000000,-32.000000000000000)\n",
      "Metadata:\n",
      "  AREA_OR_POINT=Area\n",
      "Image Structure Metadata:\n",
      "  COMPRESSION=LZW\n",
      "  INTERLEAVE=BAND\n",
      "Corner Coordinates:\n",
      "Upper Left  (  460048.000, 3146768.000) ( 86d35'31.09\"E, 28d26'48.54\"N)\n",
      "Lower Left  (  460048.000, 3084112.000) ( 86d35'38.80\"E, 27d52'52.43\"N)\n",
      "Upper Right (  479504.000, 3146768.000) ( 86d47'26.42\"E, 28d26'50.17\"N)\n",
      "Lower Right (  479504.000, 3084112.000) ( 86d47'30.37\"E, 27d52'54.02\"N)\n",
      "Center      (  469776.000, 3115440.000) ( 86d41'31.69\"E, 28d 9'51.44\"N)\n",
      "Band 1 Block=256x256 Type=Float32, ColorInterp=Gray\n",
      "  NoData Value=0\n",
      "\n",
      "0\n"
     ]
    }
   ],
   "source": [
    "#do not run - a work in progress to not have the corners hard coded in\n",
    "import subprocess\n",
    "cmd =\"gdalinfo ./data/WV_Ngozumpa/coreg32_mos-tile-0.tif\"\n",
    "print subprocess.check_output(cmd,shell=True)\n",
    "print os.system('pwd')"
   ]
  },
  {
   "cell_type": "code",
   "execution_count": 55,
   "metadata": {
    "collapsed": true
   },
   "outputs": [],
   "source": [
    "center = [28.1, 86.6] #center coordinates, lat then lon, for the base interactive map\n",
    "zoom = 10\n",
    "DEM_url = 'http://i.imgur.com/5DK99mp.jpg'\n",
    "bound_SW = [27.881231, 86.594111]\n",
    "bound_NE = [28.447269, 86.790672]"
   ]
  },
  {
   "cell_type": "markdown",
   "metadata": {},
   "source": [
    "Create map, then add an overlay"
   ]
  },
  {
   "cell_type": "code",
   "execution_count": 56,
   "metadata": {
    "collapsed": true
   },
   "outputs": [],
   "source": [
    "map = Map(center=center, zoom=zoom)\n",
    "#map"
   ]
  },
  {
   "cell_type": "markdown",
   "metadata": {},
   "source": [
    "Important notes about ImageOverlay:\n",
    "the url MUST point to something on the web. It does not work with local addresses (relative or absolute). Additionally, it does not work with services that require a login (e.g. google drive -> with a shareable link to the drive combined with a path or a shareable link to the image directly, github). It was discovered that putting an image on imgur and then using that link works!\n",
    "\n",
    "    Attempts at an actual dem dataset/image:\n",
    "    - https://drive.google.com/drive/folders/0B5c3UTO8DDZwamlQMzNRRWd3TEU/HMA/incoming/COREG/coreg_32m/20151018_0514_1050010001B64900_1050010001B64A00-DEM_32m_fig.png'\n",
    "- https://github.com/dshean/iceflow/blob/master/doc/img/IMG_4306.JPG\n",
    "\n",
    "Example of a working line of code to add an overlay:\n",
    "DEM_overlay = ImageOverlay(url='https://s3.amazonaws.com/images.seroundtable.com/t-google-star-1300195846.jpg', bounds=[[27.8, 86.9],[28, 87.3]])"
   ]
  },
  {
   "cell_type": "code",
   "execution_count": 58,
   "metadata": {
    "collapsed": false
   },
   "outputs": [],
   "source": [
    "map.remove_layer(DEM_overlay)\n",
    "DEM_overlay = ImageOverlay(url=DEM_url, bounds=[bound_SW, bound_NE],\\\n",
    "                          opacity=0.7)\n",
    "map.add_layer(DEM_overlay)\n",
    "map"
   ]
  },
  {
   "cell_type": "code",
   "execution_count": null,
   "metadata": {
    "collapsed": true
   },
   "outputs": [],
   "source": []
  }
 ],
 "metadata": {
  "anaconda-cloud": {},
  "kernelspec": {
   "display_name": "Python [conda env:py27]",
   "language": "python",
   "name": "conda-env-py27-py"
  },
  "language_info": {
   "codemirror_mode": {
    "name": "ipython",
    "version": 2
   },
   "file_extension": ".py",
   "mimetype": "text/x-python",
   "name": "python",
   "nbconvert_exporter": "python",
   "pygments_lexer": "ipython2",
   "version": "2.7.12"
  },
  "widgets": {
   "state": {
    "f57556a1657d4117ac4105b950061401": {
     "views": [
      {
       "cell_index": 16
      }
     ]
    }
   },
   "version": "1.2.0"
  }
 },
 "nbformat": 4,
 "nbformat_minor": 1
}
