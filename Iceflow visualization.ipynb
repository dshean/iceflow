{
 "cells": [
  {
   "cell_type": "markdown",
   "metadata": {},
   "source": [
    "# Visualizing output from the Mass Balance workflow"
   ]
  },
  {
   "cell_type": "markdown",
   "metadata": {},
   "source": [
    "This notebook is designed to work with output from the Mass Balance workflow [iceflow] developed during Geohackweek2016 at the University of Washington (https://github.com/dshean/iceflow)."
   ]
  },
  {
   "cell_type": "markdown",
   "metadata": {},
   "source": [
    "## 1. Viewing the specific mass balance of glacier polygons\n",
    "### Set up the environment\n",
    "This notebook requires the following packages:\n",
    "    \n",
    "    matplotlib\n",
    "    shapely\n",
    "    geopandas"
   ]
  },
  {
   "cell_type": "code",
   "execution_count": 1,
   "metadata": {
    "collapsed": false
   },
   "outputs": [],
   "source": [
    "%matplotlib inline\n",
    "\n",
    "import os\n",
    "\n",
    "import matplotlib.pyplot as plt\n",
    "# The two statements below are used mainly to set up a plotting\n",
    "# default style that's better than the default from matplotlib\n",
    "#import seaborn as sns\n",
    "plt.style.use('bmh')\n",
    "\n",
    "from shapely.geometry import Point\n",
    "#import pandas as pd\n",
    "import geopandas as gpd\n",
    "from geopandas import GeoSeries, GeoDataFrame"
   ]
  },
  {
   "cell_type": "markdown",
   "metadata": {},
   "source": [
    "### Set file names and directories"
   ]
  },
  {
   "cell_type": "code",
   "execution_count": 2,
   "metadata": {
    "collapsed": false
   },
   "outputs": [
    {
     "data": {
      "text/html": [
       "<div>\n",
       "<table border=\"1\" class=\"dataframe\">\n",
       "  <thead>\n",
       "    <tr style=\"text-align: right;\">\n",
       "      <th></th>\n",
       "      <th>AREA</th>\n",
       "      <th>BGNDATE</th>\n",
       "      <th>CENLAT</th>\n",
       "      <th>CENLON</th>\n",
       "      <th>ENDDATE</th>\n",
       "      <th>GLACTYPE</th>\n",
       "      <th>GLIMSID</th>\n",
       "      <th>NAME</th>\n",
       "      <th>O1REGION</th>\n",
       "      <th>O2REGION</th>\n",
       "      <th>RGIFLAG</th>\n",
       "      <th>RGIID</th>\n",
       "      <th>geometry</th>\n",
       "    </tr>\n",
       "  </thead>\n",
       "  <tbody>\n",
       "    <tr>\n",
       "      <th>0</th>\n",
       "      <td>0.455</td>\n",
       "      <td>-9999999</td>\n",
       "      <td>38.7047</td>\n",
       "      <td>72.9207</td>\n",
       "      <td>-9999999</td>\n",
       "      <td>9099</td>\n",
       "      <td>G072921E38705N</td>\n",
       "      <td>None</td>\n",
       "      <td>13</td>\n",
       "      <td>3</td>\n",
       "      <td>Glacier</td>\n",
       "      <td>RGI32-13.00001</td>\n",
       "      <td>POLYGON ((72.92587000000012 38.70524000000002,...</td>\n",
       "    </tr>\n",
       "    <tr>\n",
       "      <th>1</th>\n",
       "      <td>0.102</td>\n",
       "      <td>-9999999</td>\n",
       "      <td>38.8898</td>\n",
       "      <td>73.1162</td>\n",
       "      <td>-9999999</td>\n",
       "      <td>9099</td>\n",
       "      <td>G073116E38890N</td>\n",
       "      <td>None</td>\n",
       "      <td>13</td>\n",
       "      <td>3</td>\n",
       "      <td>Glacier</td>\n",
       "      <td>RGI32-13.00002</td>\n",
       "      <td>POLYGON ((73.11698000000005 38.89063000000004,...</td>\n",
       "    </tr>\n",
       "    <tr>\n",
       "      <th>2</th>\n",
       "      <td>0.792</td>\n",
       "      <td>-9999999</td>\n",
       "      <td>38.8849</td>\n",
       "      <td>73.1052</td>\n",
       "      <td>-9999999</td>\n",
       "      <td>9099</td>\n",
       "      <td>G073105E38885N</td>\n",
       "      <td>None</td>\n",
       "      <td>13</td>\n",
       "      <td>3</td>\n",
       "      <td>Glacier</td>\n",
       "      <td>RGI32-13.00003</td>\n",
       "      <td>POLYGON ((73.10908000027831 38.8796899994485, ...</td>\n",
       "    </tr>\n",
       "    <tr>\n",
       "      <th>3</th>\n",
       "      <td>0.113</td>\n",
       "      <td>-9999999</td>\n",
       "      <td>38.8765</td>\n",
       "      <td>73.1130</td>\n",
       "      <td>-9999999</td>\n",
       "      <td>9099</td>\n",
       "      <td>G073113E38877N</td>\n",
       "      <td>None</td>\n",
       "      <td>13</td>\n",
       "      <td>3</td>\n",
       "      <td>Glacier</td>\n",
       "      <td>RGI32-13.00004</td>\n",
       "      <td>POLYGON ((73.1127900000001 38.87709000000008, ...</td>\n",
       "    </tr>\n",
       "    <tr>\n",
       "      <th>4</th>\n",
       "      <td>0.124</td>\n",
       "      <td>-9999999</td>\n",
       "      <td>38.8800</td>\n",
       "      <td>73.1129</td>\n",
       "      <td>-9999999</td>\n",
       "      <td>9099</td>\n",
       "      <td>G073113E38880N</td>\n",
       "      <td>None</td>\n",
       "      <td>13</td>\n",
       "      <td>3</td>\n",
       "      <td>Glacier</td>\n",
       "      <td>RGI32-13.00005</td>\n",
       "      <td>POLYGON ((73.11370000000007 38.88089000000006,...</td>\n",
       "    </tr>\n",
       "  </tbody>\n",
       "</table>\n",
       "</div>"
      ],
      "text/plain": [
       "    AREA   BGNDATE   CENLAT   CENLON   ENDDATE GLACTYPE         GLIMSID  NAME  \\\n",
       "0  0.455  -9999999  38.7047  72.9207  -9999999     9099  G072921E38705N  None   \n",
       "1  0.102  -9999999  38.8898  73.1162  -9999999     9099  G073116E38890N  None   \n",
       "2  0.792  -9999999  38.8849  73.1052  -9999999     9099  G073105E38885N  None   \n",
       "3  0.113  -9999999  38.8765  73.1130  -9999999     9099  G073113E38877N  None   \n",
       "4  0.124  -9999999  38.8800  73.1129  -9999999     9099  G073113E38880N  None   \n",
       "\n",
       "   O1REGION  O2REGION  RGIFLAG           RGIID  \\\n",
       "0        13         3  Glacier  RGI32-13.00001   \n",
       "1        13         3  Glacier  RGI32-13.00002   \n",
       "2        13         3  Glacier  RGI32-13.00003   \n",
       "3        13         3  Glacier  RGI32-13.00004   \n",
       "4        13         3  Glacier  RGI32-13.00005   \n",
       "\n",
       "                                            geometry  \n",
       "0  POLYGON ((72.92587000000012 38.70524000000002,...  \n",
       "1  POLYGON ((73.11698000000005 38.89063000000004,...  \n",
       "2  POLYGON ((73.10908000027831 38.8796899994485, ...  \n",
       "3  POLYGON ((73.1127900000001 38.87709000000008, ...  \n",
       "4  POLYGON ((73.11370000000007 38.88089000000006,...  "
      ]
     },
     "execution_count": 2,
     "metadata": {},
     "output_type": "execute_result"
    }
   ],
   "source": [
    "file_pth = 'rgi_centralasia/13_rgi32_CentralAsia.shp'\n",
    "\n",
    "rgi_glac = gpd.read_file(file_pth)\n",
    "\n",
    "timeframe='[time between DEMs]'\n",
    "\n",
    "rgi_glac.head()"
   ]
  },
  {
   "cell_type": "markdown",
   "metadata": {},
   "source": [
    "### Plot the glacier outlines based on their specific mass balance"
   ]
  },
  {
   "cell_type": "code",
   "execution_count": null,
   "metadata": {
    "collapsed": false
   },
   "outputs": [],
   "source": [
    "# test data set-up\n",
    "gdf = rgi_glac\n",
    "gdf.plot()"
   ]
  },
  {
   "cell_type": "code",
   "execution_count": null,
   "metadata": {
    "collapsed": false
   },
   "outputs": [],
   "source": [
    "# test data set-up\n",
    "import random\n",
    "my_randoms = random.sample(xrange(-50,50), 15)\n",
    "gdf[\"spec\"]= my_randoms\n",
    "gdf.to_file(\"rgi_test.shp\") "
   ]
  },
  {
   "cell_type": "code",
   "execution_count": null,
   "metadata": {
    "collapsed": true
   },
   "outputs": [],
   "source": [
    "f, ax = plt.subplots(1, figsize=(6, 4))\n",
    "rgi_glac.plot(column='[spec mb]', scheme='fisher_jenks', k=7, \n",
    "                         alpha=0.9, cmap=plt.cm.Blues, legend=True, ax=ax)\n",
    "plt.axis('equal')\n",
    "ax.set_title('Specific Mass Balance'+timeframe)"
   ]
  }
 ],
 "metadata": {
  "anaconda-cloud": {},
  "kernelspec": {
   "display_name": "Python [default]",
   "language": "python",
   "name": "python2"
  },
  "language_info": {
   "codemirror_mode": {
    "name": "ipython",
    "version": 2
   },
   "file_extension": ".py",
   "mimetype": "text/x-python",
   "name": "python",
   "nbconvert_exporter": "python",
   "pygments_lexer": "ipython2",
   "version": "2.7.12"
  }
 },
 "nbformat": 4,
 "nbformat_minor": 1
}
